{
 "cells": [
  {
   "cell_type": "markdown",
   "metadata": {},
   "source": [
    "# 🚀 Bitcoin Scalping Model - Auto Run\n",
    "\n",
    "**Model hybrid LSTM + XGBoost untuk scalping Bitcoin (BTCUSDT 5m)**\n",
    "\n",
    "## ⚡ Auto Setup & Run\n",
    "\n",
    "Notebook ini akan otomatis:\n",
    "1. Clone repository dari GitHub\n",
    "2. Setup environment\n",
    "3. Download data\n",
    "4. Train model\n",
    "5. Generate signals\n",
    "\n",
    "**Cukup run semua cell secara berurutan!**"
   ]
  },
  {
   "cell_type": "markdown",
   "metadata": {},
   "source": [
    "## 🔧 Step 1: Clone Repository & Setup"
   ]
  },
  {
   "cell_type": "code",
   "execution_count": null,
   "metadata": {},
   "outputs": [],
   "source": [
    "# Clone repository (ganti URL dengan repository Anda)\n",
    "!git clone https://github.com/username/bitcoin-scalping-model.git\n",
    "\n",
    "# Change to project directory\n",
    "%cd bitcoin-scalping-model\n",
    "\n",
    "# Check files\n",
    "!ls -la"
   ]
  },
  {
   "cell_type": "code",
   "execution_count": null,
   "metadata": {},
   "outputs": [],
   "source": [
    "# Auto setup environment\n",
    "!python colab_setup.py"
   ]
  },
  {
   "cell_type": "markdown",
   "metadata": {},
   "source": [
    "## 📊 Step 2: Download Data"
   ]
  },
  {
   "cell_type": "code",
   "execution_count": null,
   "metadata": {},
   "outputs": [],
   "source": [
    "# Download BTCUSDT 5m data for 2024\n",
    "!python download_data.py"
   ]
  },
  {
   "cell_type": "markdown",
   "metadata": {},
   "source": [
    "## 🏋️ Step 3: Train Model"
   ]
  },
  {
   "cell_type": "code",
   "execution_count": null,
   "metadata": {},
   "outputs": [],
   "source": [
    "# Train the hybrid LSTM + XGBoost model\n",
    "!python main.py train"
   ]
  },
  {
   "cell_type": "markdown",
   "metadata": {},
   "source": [
    "## 🎯 Step 4: Test Signal Generation"
   ]
  },
  {
   "cell_type": "code",
   "execution_count": null,
   "metadata": {},
   "outputs": [],
   "source": [
    "# Test signal generation\n",
    "!python main.py test"
   ]
  },
  {
   "cell_type": "markdown",
   "metadata": {},
   "source": [
    "## 📈 Step 5: Visualize Results"
   ]
  },
  {
   "cell_type": "code",
   "execution_count": null,
   "metadata": {},
   "outputs": [],
   "source": [
    "# Load and visualize results\n",
    "import pandas as pd\n",
    "import matplotlib.pyplot as plt\n",
    "import seaborn as sns\n",
    "import joblib\n",
    "import os\n",
    "\n",
    "# Load evaluation results\n",
    "if os.path.exists('models/evaluation_results.pkl'):\n",
    "    results = joblib.load('models/evaluation_results.pkl')\n",
    "    \n",
    "    print(\"📊 Model Performance:\")\n",
    "    print(f\"Accuracy: {results['accuracy']:.4f}\")\n",
    "    print(f\"Precision: {results['precision']:.4f}\")\n",
    "    print(f\"Recall: {results['recall']:.4f}\")\n",
    "    print(f\"F1-Score: {results['f1_score']:.4f}\")\n",
    "    \n",
    "    # Plot performance metrics\n",
    "    fig, ax = plt.subplots(1, 1, figsize=(8, 6))\n",
    "    metrics = ['Accuracy', 'Precision', 'Recall', 'F1-Score']\n",
    "    values = [results['accuracy'], results['precision'], results['recall'], results['f1_score']]\n",
    "    \n",
    "    bars = ax.bar(metrics, values, color=['#1f77b4', '#ff7f0e', '#2ca02c', '#d62728'])\n",
    "    ax.set_title('Model Performance Metrics', fontsize=16, fontweight='bold')\n",
    "    ax.set_ylabel('Score', fontsize=12)\n",
    "    ax.set_ylim(0, 1)\n",
    "    \n",
    "    # Add value labels on bars\n",
    "    for bar, value in zip(bars, values):\n",
    "        ax.text(bar.get_x() + bar.get_width()/2, bar.get_height() + 0.01, \n",
    "                f'{value:.3f}', ha='center', va='bottom', fontweight='bold')\n",
    "    \n",
    "    plt.tight_layout()\n",
    "    plt.show()\n",
    "    \n",
    "else:\n",
    "    print(\"❌ Evaluation results not found. Please run training first.\")"
   ]
  },
  {
   "cell_type": "markdown",
   "metadata": {},
   "source": [
    "## 🎉 Step 6: Download Results"
   ]
  },
  {
   "cell_type": "code",
   "execution_count": null,
   "metadata": {},
   "outputs": [],
   "source": [
    "# Create and download results package\n",
    "import zipfile\n",
    "import os\n",
    "\n",
    "print(\"📦 Creating results package...\")\n",
    "\n",
    "# Create zip file with all results\n",
    "with zipfile.ZipFile('bitcoin_scalping_results.zip', 'w') as zipf:\n",
    "    # Add model files\n",
    "    for root, dirs, files in os.walk('models'):\n",
    "        for file in files:\n",
    "            file_path = os.path.join(root, file)\n",
    "            zipf.write(file_path, file)\n",
    "    \n",
    "    # Add source code\n",
    "    for root, dirs, files in os.walk('src'):\n",
    "        for file in files:\n",
    "            file_path = os.path.join(root, file)\n",
    "            zipf.write(file_path, file)\n",
    "    \n",
    "    # Add main files\n",
    "    main_files = ['main.py', 'requirements.txt', 'README.md']\n",
    "    for file in main_files:\n",
    "        if os.path.exists(file):\n",
    "            zipf.write(file, file)\n",
    "\n",
    "print(\"✅ Results package created: bitcoin_scalping_results.zip\")\n",
    "print(\"\\n📥 Download the results package\")\n",
    "\n",
    "# Download the zip file\n",
    "from google.colab import files\n",
    "files.download('bitcoin_scalping_results.zip')"
   ]
  },
  {
   "cell_type": "markdown",
   "metadata": {},
   "source": [
    "## 🚀 Step 7: Start API Server (Optional)"
   ]
  },
  {
   "cell_type": "code",
   "execution_count": null,
   "metadata": {},
   "outputs": [],
   "source": [
    "# Start API server for real-time signal generation\n",
    "print(\"🌐 Starting API server...\")\n",
    "print(\"\\n📋 API Endpoints:\")\n",
    "print(\"- POST /signal - Generate trading signal\")\n",
    "print(\"- GET /health - Health check\")\n",
    "print(\"- GET /model/info - Model information\")\n",
    "print(\"- GET /data/stats - Data statistics\")\n",
    "\n",
    "print(\"\\n🔗 Access API at: http://localhost:8000\")\n",
    "print(\"\\n⚠️  Note: This will run indefinitely. Stop manually when done.\")\n",
    "\n",
    "# Uncomment to start server\n",
    "# !python main.py serve"
   ]
  },
  {
   "cell_type": "markdown",
   "metadata": {},
   "source": [
    "## 🎯 Summary\n",
    "\n",
    "### ✅ **Completed Tasks:**\n",
    "\n",
    "1. **Repository Cloned** - Project files downloaded\n",
    "2. **Environment Setup** - Dependencies installed\n",
    "3. **Data Downloaded** - BTCUSDT 5m 2024 data\n",
    "4. **Model Trained** - Hybrid LSTM + XGBoost\n",
    "5. **Signals Generated** - Trading signals with TP/SL\n",
    "6. **Results Downloaded** - Model files and code\n",
    "\n",
    "### 📊 **Model Performance:**\n",
    "- **Data**: 105,408 bar BTCUSDT 5m 2024\n",
    "- **Features**: 40+ technical indicators\n",
    "- **Architecture**: LSTM encoder + XGBoost classifier\n",
    "- **Signals**: Long/Short/None with confidence scores\n",
    "\n",
    "### 🎉 **Ready for Trading!**\n",
    "\n",
    "Model siap digunakan untuk generate signal trading real-time dengan format:\n",
    "```json\n",
    "{\n",
    "  \"signal\": \"Long/Short/None\",\n",
    "  \"entry\": 45210.50,\n",
    "  \"tp\": 45840.25,\n",
    "  \"sl\": 44980.20,\n",
    "  \"confidence\": 0.73\n",
    "}\n",
    "```"
   ]
  }
 ],
 "metadata": {
  "colab": {
   "provenance": []
  },
  "kernelspec": {
   "display_name": "Python 3",
   "name": "python3"
  },
  "language_info": {
   "name": "python"
  }
 },
 "nbformat": 4,
 "nbformat_minor": 0
}
