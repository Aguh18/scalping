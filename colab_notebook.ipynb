{
  "cells": [
    {
      "cell_type": "markdown",
      "metadata": {},
      "source": [
        "# Bitcoin Scalping Model - Google Colab\n",
        "\n",
        "Model hybrid LSTM + XGBoost untuk scalping Bitcoin (BTCUSDT 5m) menggunakan data tahun 2024.\n",
        "\n",
        "## Fitur:\n",
        "- Model Hybrid: LSTM sebagai encoder sequence + XGBoost sebagai classifier\n",
        "- Labeling Cerdas: TP/SL dengan horizon 5 bar ke depan\n",
        "- 40+ indikator teknikal\n",
        "- Real-time signal generation\n",
        "- Signal lengkap: Entry price, TP, SL, confidence score\n"
      ]
    },
    {
      "cell_type": "markdown",
      "metadata": {},
      "source": [
        "## 1. Setup Environment\n"
      ]
    },
    {
      "cell_type": "code",
      "execution_count": null,
      "metadata": {},
      "outputs": [],
      "source": [
        "# Install dependencies\n",
        "!pip install pandas==2.1.4 numpy==1.24.3 scikit-learn==1.3.2 tensorflow==2.15.0 xgboost==2.0.3 matplotlib==3.8.2 seaborn==0.13.0 fastapi==0.104.1 uvicorn==0.24.0 python-multipart==0.0.6 pydantic==2.5.0 ta==0.10.2\n"
      ]
    },
    {
      "cell_type": "code",
      "execution_count": null,
      "metadata": {},
      "outputs": [],
      "source": [
        "# Check GPU availability\n",
        "import tensorflow as tf\n",
        "print(f\"GPU Available: {tf.config.list_physical_devices('GPU')}\")\n",
        "print(f\"TensorFlow Version: {tf.__version__}\")\n",
        "\n",
        "# Enable GPU memory growth\n",
        "gpus = tf.config.experimental.list_physical_devices('GPU')\n",
        "if gpus:\n",
        "    try:\n",
        "        for gpu in gpus:\n",
        "            tf.config.experimental.set_memory_growth(gpu, True)\n",
        "        print(\"✅ GPU memory growth enabled\")\n",
        "    except RuntimeError as e:\n",
        "        print(f\"❌ Error setting GPU memory growth: {e}\")\n"
      ]
    },
    {
      "cell_type": "code",
      "execution_count": null,
      "metadata": {},
      "outputs": [],
      "source": [
        "# Create directories\n",
        "import os\n",
        "os.makedirs(\"models\", exist_ok=True)\n",
        "os.makedirs(\"data\", exist_ok=True)\n",
        "os.makedirs(\"src\", exist_ok=True)\n",
        "print(\"✅ Directories created\")\n"
      ]
    },
    {
      "cell_type": "markdown",
      "metadata": {},
      "source": [
        "## 2. Upload Data\n",
        "\n",
        "Upload semua file CSV BTCUSDT-5m-2024-*.csv ke folder `data/`\n"
      ]
    },
    {
      "cell_type": "code",
      "execution_count": null,
      "metadata": {},
      "outputs": [],
      "source": [
        "# Upload files (run this cell and upload your files)\n",
        "from google.colab import files\n",
        "import shutil\n",
        "import zipfile\n",
        "\n",
        "print(\"📁 Upload Options:\")\n",
        "print(\"1. Upload 'bitcoin_scalping_complete.zip' (recommended)\")\n",
        "print(\"2. Upload individual CSV files\")\n",
        "print(\"3. Upload individual Python files\")\n",
        "\n",
        "# Option 1: Upload complete package (recommended)\n",
        "print(\"\\n🚀 Option 1: Upload complete package\")\n",
        "print(\"Upload 'bitcoin_scalping_complete.zip' and uncomment the code below:\")\n",
        "\n",
        "# Uncomment to upload complete package\n",
        "# uploaded = files.upload()\n",
        "# for filename in uploaded.keys():\n",
        "#     if filename.endswith('.zip'):\n",
        "#         with zipfile.ZipFile(filename, 'r') as zip_ref:\n",
        "#             zip_ref.extractall('.')\n",
        "#         print(f\"Extracted {filename}\")\n",
        "#         os.remove(filename)  # Remove zip file after extraction\n",
        "\n",
        "# Option 2: Upload individual CSV files\n",
        "print(\"\\n📊 Option 2: Upload individual CSV files\")\n",
        "print(\"Expected files: BTCUSDT-5m-2024-01.csv to BTCUSDT-5m-2024-12.csv\")\n",
        "\n",
        "# Uncomment to upload individual CSV files\n",
        "# uploaded = files.upload()\n",
        "# for filename in uploaded.keys():\n",
        "#     if filename.startswith('BTCUSDT-5m-2024-'):\n",
        "#         shutil.move(filename, f'data/{filename}')\n",
        "#         print(f'Moved {filename} to data/')\n"
      ]
    },
    {
      "cell_type": "markdown",
      "metadata": {},
      "source": [
        "## 3. Upload Source Code\n",
        "\n",
        "Upload semua file Python dari folder `src/`\n"
      ]
    },
    {
      "cell_type": "code",
      "execution_count": null,
      "metadata": {},
      "outputs": [],
      "source": [
        "# Upload source code files (if not using complete package)\n",
        "print(\"📁 Upload source code files (if not using complete package)\")\n",
        "print(\"Required files:\")\n",
        "print(\"- merge_data.py\")\n",
        "print(\"- features.py\")\n",
        "print(\"- labeling.py\")\n",
        "print(\"- model.py\")\n",
        "print(\"- train.py\")\n",
        "print(\"- signal.py\")\n",
        "print(\"- serve.py\")\n",
        "print(\"- __init__.py\")\n",
        "\n",
        "# Uncomment to upload individual Python files\n",
        "# uploaded = files.upload()\n",
        "# for filename in uploaded.keys():\n",
        "#     if filename.endswith('.py'):\n",
        "#         shutil.move(filename, f'src/{filename}')\n",
        "#         print(f'Moved {filename} to src/')\n",
        "\n",
        "print(\"\\n💡 Tip: If you uploaded the complete package, skip this step!\")\n"
      ]
    },
    {
      "cell_type": "markdown",
      "metadata": {},
      "source": [
        "## 4. Test Imports\n"
      ]
    },
    {
      "cell_type": "code",
      "execution_count": null,
      "metadata": {},
      "outputs": [],
      "source": [
        "# Test imports\n",
        "import sys\n",
        "sys.path.append('src')\n",
        "\n",
        "try:\n",
        "    from src.merge_data import load_and_merge_2024_data\n",
        "    print(\"✅ merge_data: OK\")\n",
        "    \n",
        "    from src.features import calculate_technical_indicators\n",
        "    print(\"✅ features: OK\")\n",
        "    \n",
        "    from src.labeling import calculate_tp_sl_labels\n",
        "    print(\"✅ labeling: OK\")\n",
        "    \n",
        "    from src.model import HybridLSTMXGBModel\n",
        "    print(\"✅ model: OK\")\n",
        "    \n",
        "    from src.signal import SignalGenerator\n",
        "    print(\"✅ signal: OK\")\n",
        "    \n",
        "    print(\"\\n🎉 All modules imported successfully!\")\n",
        "    \n",
        "except Exception as e:\n",
        "    print(f\"❌ Import error: {e}\")\n"
      ]
    },
    {
      "cell_type": "markdown",
      "metadata": {},
      "source": [
        "## 5. Load and Prepare Data\n"
      ]
    },
    {
      "cell_type": "code",
      "execution_count": null,
      "metadata": {},
      "outputs": [],
      "source": [
        "# Load data\n",
        "from src.merge_data import load_and_merge_2024_data\n",
        "from src.features import calculate_technical_indicators\n",
        "from src.labeling import calculate_tp_sl_labels, create_trading_signals\n",
        "\n",
        "print(\"📊 Loading data...\")\n",
        "df = load_and_merge_2024_data()\n",
        "print(f\"Data shape: {df.shape}\")\n",
        "print(f\"Date range: {df.index.min()} to {df.index.max()}\")\n",
        "\n",
        "print(\"\\n🔧 Calculating technical indicators...\")\n",
        "df_features = calculate_technical_indicators(df)\n",
        "print(f\"Features shape: {df_features.shape}\")\n",
        "\n",
        "print(\"\\n🏷️ Creating labels...\")\n",
        "df_labeled = calculate_tp_sl_labels(df_features)\n",
        "signals = create_trading_signals(df_labeled)\n",
        "print(f\"Signals shape: {signals.shape}\")\n",
        "print(f\"Signal distribution:\")\n",
        "print(signals['signal'].value_counts())\n"
      ]
    },
    {
      "cell_type": "markdown",
      "metadata": {},
      "source": [
        "## 6. Train Model\n"
      ]
    },
    {
      "cell_type": "code",
      "execution_count": null,
      "metadata": {},
      "outputs": [],
      "source": [
        "# Train model\n",
        "from src.train import prepare_training_data, train_model, evaluate_model\n",
        "\n",
        "print(\"🚀 Preparing training data...\")\n",
        "X_train, X_val, X_test, y_train, y_val, y_test, feature_columns = prepare_training_data()\n",
        "\n",
        "print(\"\\n🏋️ Training model...\")\n",
        "model, history = train_model(X_train, y_train, X_val, y_val, epochs=50, batch_size=128)\n",
        "\n",
        "print(\"\\n📊 Evaluating model...\")\n",
        "metrics = evaluate_model(model, X_test, y_test)\n",
        "\n",
        "print(\"\\n✅ Training completed!\")\n"
      ]
    },
    {
      "cell_type": "markdown",
      "metadata": {},
      "source": [
        "## 7. Test Signal Generation\n"
      ]
    },
    {
      "cell_type": "code",
      "execution_count": null,
      "metadata": {},
      "outputs": [],
      "source": [
        "# Test signal generation\n",
        "from src.signal import generate_signal_from_data\n",
        "\n",
        "print(\"🎯 Testing signal generation...\")\n",
        "signal = generate_signal_from_data(df_features)\n",
        "\n",
        "print(\"\\n📈 Generated Signal:\")\n",
        "for key, value in signal.items():\n",
        "    print(f\"  {key}: {value}\")\n",
        "\n",
        "print(\"\\n✅ Signal generation test completed!\")\n"
      ]
    },
    {
      "cell_type": "markdown",
      "metadata": {},
      "source": [
        "## 8. Visualize Results\n"
      ]
    },
    {
      "cell_type": "code",
      "execution_count": null,
      "metadata": {},
      "outputs": [],
      "source": [
        "# Plot training history\n",
        "import matplotlib.pyplot as plt\n",
        "import seaborn as sns\n",
        "\n",
        "fig, axes = plt.subplots(2, 2, figsize=(15, 10))\n",
        "\n",
        "# Loss\n",
        "axes[0, 0].plot(history['loss'], label='Training Loss')\n",
        "axes[0, 0].plot(history['val_loss'], label='Validation Loss')\n",
        "axes[0, 0].set_title('Model Loss')\n",
        "axes[0, 0].set_xlabel('Epoch')\n",
        "axes[0, 0].set_ylabel('Loss')\n",
        "axes[0, 0].legend()\n",
        "axes[0, 0].grid(True)\n",
        "\n",
        "# Accuracy\n",
        "axes[0, 1].plot(history['accuracy'], label='Training Accuracy')\n",
        "axes[0, 1].plot(history['val_accuracy'], label='Validation Accuracy')\n",
        "axes[0, 1].set_title('Model Accuracy')\n",
        "axes[0, 1].set_xlabel('Epoch')\n",
        "axes[0, 1].set_ylabel('Accuracy')\n",
        "axes[0, 1].legend()\n",
        "axes[0, 1].grid(True)\n",
        "\n",
        "# Confusion Matrix\n",
        "cm = metrics['confusion_matrix']\n",
        "sns.heatmap(cm, annot=True, fmt='d', cmap='Blues', \n",
        "            xticklabels=['No Trade/Short', 'Long'], \n",
        "            yticklabels=['No Trade/Short', 'Long'],\n",
        "            ax=axes[1, 0])\n",
        "axes[1, 0].set_title('Confusion Matrix')\n",
        "axes[1, 0].set_xlabel('Predicted')\n",
        "axes[1, 0].set_ylabel('Actual')\n",
        "\n",
        "# Price chart with signals\n",
        "axes[1, 1].plot(df.index[-1000:], df['close'].iloc[-1000:], label='BTC Price', alpha=0.7)\n",
        "axes[1, 1].set_title('BTC Price (Last 1000 bars)')\n",
        "axes[1, 1].set_xlabel('Date')\n",
        "axes[1, 1].set_ylabel('Price')\n",
        "axes[1, 1].legend()\n",
        "axes[1, 1].grid(True)\n",
        "\n",
        "plt.tight_layout()\n",
        "plt.show()\n",
        "\n",
        "print(\"\\n📊 Model Performance:\")\n",
        "print(f\"Accuracy: {metrics['accuracy']:.4f}\")\n",
        "print(f\"Precision: {metrics['precision']:.4f}\")\n",
        "print(f\"Recall: {metrics['recall']:.4f}\")\n",
        "print(f\"F1-Score: {metrics['f1_score']:.4f}\")\n"
      ]
    },
    {
      "cell_type": "markdown",
      "metadata": {},
      "source": [
        "## 9. Download Trained Models\n"
      ]
    },
    {
      "cell_type": "code",
      "execution_count": null,
      "metadata": {},
      "outputs": [],
      "source": [
        "# Download trained models\n",
        "import zipfile\n",
        "import os\n",
        "\n",
        "print(\"📦 Creating model package...\")\n",
        "\n",
        "# Create zip file with all model files\n",
        "with zipfile.ZipFile('bitcoin_scalping_models.zip', 'w') as zipf:\n",
        "    for root, dirs, files in os.walk('models'):\n",
        "        for file in files:\n",
        "            file_path = os.path.join(root, file)\n",
        "            zipf.write(file_path, file)\n",
        "    \n",
        "    # Add source code\n",
        "    for root, dirs, files in os.walk('src'):\n",
        "        for file in files:\n",
        "            file_path = os.path.join(root, file)\n",
        "            zipf.write(file_path, file)\n",
        "\n",
        "print(\"✅ Model package created: bitcoin_scalping_models.zip\")\n",
        "print(\"\\n📥 Download the zip file to use the trained model locally\")\n",
        "\n",
        "# Download the zip file\n",
        "from google.colab import files\n",
        "files.download('bitcoin_scalping_models.zip')\n"
      ]
    },
    {
      "cell_type": "markdown",
      "metadata": {},
      "source": [
        "## 🎉 Summary\n",
        "\n",
        "Model Bitcoin scalping telah berhasil dilatih dengan:\n",
        "\n",
        "- **Data**: 105,408 bar BTCUSDT 5m 2024\n",
        "- **Features**: 40+ indikator teknikal\n",
        "- **Model**: Hybrid LSTM + XGBoost\n",
        "- **Signals**: Long/Short/None dengan TP/SL\n",
        "- **Performance**: Accuracy, Precision, Recall, F1-Score\n",
        "\n",
        "Model siap digunakan untuk generate signal trading real-time!\n"
      ]
    }
  ],
  "metadata": {
    "language_info": {
      "name": "python"
    }
  },
  "nbformat": 4,
  "nbformat_minor": 2
}
